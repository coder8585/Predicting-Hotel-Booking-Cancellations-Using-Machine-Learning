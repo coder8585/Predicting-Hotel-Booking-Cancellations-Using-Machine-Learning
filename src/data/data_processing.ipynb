{
  "cells": [
    {
      "cell_type": "code",
      "execution_count": 1,
      "metadata": {
        "id": "QjMl1nqtJh9B"
      },
      "outputs": [],
      "source": [
        "import math\n",
        "from os.path import join\n",
        "from google.colab import drive\n",
        "\n",
        "import numpy as np\n",
        "import pandas as pd\n",
        "import calendar\n",
        "import seaborn as sns\n",
        "sns.set(style=\"darkgrid\")\n",
        "\n",
        "from sklearn.model_selection import train_test_split\n",
        "import tensorflow as tf\n",
        "\n",
        "from matplotlib import pyplot as plt\n",
        "\n",
        "import pycountry_convert as pc"
      ]
    },
    {
      "cell_type": "code",
      "execution_count": 2,
      "metadata": {
        "colab": {
          "base_uri": "https://localhost:8080/"
        },
        "collapsed": true,
        "id": "BHl9A5QrJogL",
        "outputId": "2c300719-8ca9-4c64-ecaf-b07f8478ea9c"
      },
      "outputs": [
        {
          "output_type": "stream",
          "name": "stdout",
          "text": [
            "Drive already mounted at /content/drive; to attempt to forcibly remount, call drive.mount(\"/content/drive\", force_remount=True).\n"
          ]
        }
      ],
      "source": [
        "drive.mount('/content/drive')"
      ]
    },
    {
      "cell_type": "code",
      "execution_count": 3,
      "metadata": {
        "colab": {
          "base_uri": "https://localhost:8080/"
        },
        "id": "bdHcTRtwJsHs",
        "outputId": "3911607d-5c1a-4118-c117-0fc111a77aa7"
      },
      "outputs": [
        {
          "output_type": "stream",
          "name": "stdout",
          "text": [
            "Original dataset shape: (119390, 32)\n"
          ]
        }
      ],
      "source": [
        "# Load data\n",
        "path = '/content/drive/MyDrive/Colab Notebooks/data/'\n",
        "df = pd.read_csv(path + 'hotel_bookings.csv')\n",
        "print(f'Original dataset shape: {df.shape}')"
      ]
    },
    {
      "cell_type": "markdown",
      "source": [
        "## Data Profile"
      ],
      "metadata": {
        "id": "YidOVQOjdi8t"
      }
    },
    {
      "cell_type": "code",
      "source": [
        "df.info()\n",
        "# Children, country, agent, and company have nulls"
      ],
      "metadata": {
        "colab": {
          "base_uri": "https://localhost:8080/"
        },
        "id": "2PNlVfBxeE7-",
        "outputId": "261b81ef-18e5-481f-895f-0d598ee29663"
      },
      "execution_count": 4,
      "outputs": [
        {
          "output_type": "stream",
          "name": "stdout",
          "text": [
            "<class 'pandas.core.frame.DataFrame'>\n",
            "RangeIndex: 119390 entries, 0 to 119389\n",
            "Data columns (total 32 columns):\n",
            " #   Column                          Non-Null Count   Dtype  \n",
            "---  ------                          --------------   -----  \n",
            " 0   hotel                           119390 non-null  object \n",
            " 1   is_canceled                     119390 non-null  int64  \n",
            " 2   lead_time                       119390 non-null  int64  \n",
            " 3   arrival_date_year               119390 non-null  int64  \n",
            " 4   arrival_date_month              119390 non-null  object \n",
            " 5   arrival_date_week_number        119390 non-null  int64  \n",
            " 6   arrival_date_day_of_month       119390 non-null  int64  \n",
            " 7   stays_in_weekend_nights         119390 non-null  int64  \n",
            " 8   stays_in_week_nights            119390 non-null  int64  \n",
            " 9   adults                          119390 non-null  int64  \n",
            " 10  children                        119386 non-null  float64\n",
            " 11  babies                          119390 non-null  int64  \n",
            " 12  meal                            119390 non-null  object \n",
            " 13  country                         118902 non-null  object \n",
            " 14  market_segment                  119390 non-null  object \n",
            " 15  distribution_channel            119390 non-null  object \n",
            " 16  is_repeated_guest               119390 non-null  int64  \n",
            " 17  previous_cancellations          119390 non-null  int64  \n",
            " 18  previous_bookings_not_canceled  119390 non-null  int64  \n",
            " 19  reserved_room_type              119390 non-null  object \n",
            " 20  assigned_room_type              119390 non-null  object \n",
            " 21  booking_changes                 119390 non-null  int64  \n",
            " 22  deposit_type                    119390 non-null  object \n",
            " 23  agent                           103050 non-null  float64\n",
            " 24  company                         6797 non-null    float64\n",
            " 25  days_in_waiting_list            119390 non-null  int64  \n",
            " 26  customer_type                   119390 non-null  object \n",
            " 27  adr                             119390 non-null  float64\n",
            " 28  required_car_parking_spaces     119390 non-null  int64  \n",
            " 29  total_of_special_requests       119390 non-null  int64  \n",
            " 30  reservation_status              119390 non-null  object \n",
            " 31  reservation_status_date         119390 non-null  object \n",
            "dtypes: float64(4), int64(16), object(12)\n",
            "memory usage: 29.1+ MB\n"
          ]
        }
      ]
    },
    {
      "cell_type": "markdown",
      "source": [
        "## Data Cleansing and Processing"
      ],
      "metadata": {
        "id": "BcGYwU66m88z"
      }
    },
    {
      "cell_type": "code",
      "source": [
        "# Data processing - filling nulls and adjusting datatypes/values\n",
        "df['agent'] = df['agent'].notna().astype(int)\n",
        "df['arrival_date_month'] = pd.to_datetime(\n",
        "    df['arrival_date_month'], format='%B').dt.month\n",
        "df['children'] = df['children'].fillna(0)\n",
        "df['company'] = df['company'].notna().astype(int)\n",
        "\n",
        "# Map countries to continents\n",
        "manual_map = {\n",
        "    'CN': 'Asia',\n",
        "    'TMP': 'Asia',       # Timor-Leste\n",
        "    'UMI': 'Oceania',    # U.S. Minor Outlying Islands\n",
        "    'ATA': 'Antarctica', # Antarctica\n",
        "    'ATF': 'Antarctica', # French Southern Territories\n",
        "    None: 'Unknown',\n",
        "    float('nan'): 'Unknown'\n",
        "}\n",
        "\n",
        "def country_to_continent(country_code):\n",
        "    try:\n",
        "        if pd.isna(country_code) or country_code in manual_map:\n",
        "            return manual_map.get(country_code, 'Unspecified')\n",
        "        # conversion between iso\n",
        "        country_alpha2 = pc.country_alpha3_to_country_alpha2(country_code)\n",
        "        # iso convert to continent\n",
        "        continent_code = pc.country_alpha2_to_continent_code(country_alpha2)\n",
        "        return pc.convert_continent_code_to_continent_name(continent_code)\n",
        "    except:\n",
        "        return 'Unspecified'\n",
        "\n",
        "df['continent'] = df['country'].apply(country_to_continent)\n",
        "\n",
        "# Determine if customer got their desired room type\n",
        "mask_equal = df['assigned_room_type'] == df['reserved_room_type']\n",
        "mask_not_ik = ~df['assigned_room_type'].isin(['I', 'K'])\n",
        "df['is_reserved_room_type'] = (mask_equal & mask_not_ik).astype(int)\n",
        "\n",
        "# Drop outliers for ADR (greater than 5000 and negative values)\n",
        "df = df[(df.adr >= 0) & (df.adr < 5000)]\n",
        "\n",
        "# Drop unneeded columns\n",
        "cleaned_df = df.drop(['country',\n",
        "              'assigned_room_type',\n",
        "              'arrival_date_day_of_month',\n",
        "              'arrival_date_week_number',\n",
        "              'arrival_date_year',\n",
        "              'reservation_status',\n",
        "              'reservation_status_date',\n",
        "              'reserved_room_type'], axis=1)"
      ],
      "metadata": {
        "id": "rlZEEwZ4dohQ"
      },
      "execution_count": 5,
      "outputs": []
    },
    {
      "cell_type": "code",
      "source": [
        "cleaned_df.head()"
      ],
      "metadata": {
        "colab": {
          "base_uri": "https://localhost:8080/",
          "height": 342
        },
        "id": "8CLuP6QEfSXH",
        "outputId": "c3d05a97-1ee2-4398-c92d-b950338c23b9"
      },
      "execution_count": 6,
      "outputs": [
        {
          "output_type": "execute_result",
          "data": {
            "text/plain": [
              "          hotel  is_canceled  lead_time  arrival_date_month  \\\n",
              "0  Resort Hotel            0        342                   7   \n",
              "1  Resort Hotel            0        737                   7   \n",
              "2  Resort Hotel            0          7                   7   \n",
              "3  Resort Hotel            0         13                   7   \n",
              "4  Resort Hotel            0         14                   7   \n",
              "\n",
              "   stays_in_weekend_nights  stays_in_week_nights  adults  children  babies  \\\n",
              "0                        0                     0       2       0.0       0   \n",
              "1                        0                     0       2       0.0       0   \n",
              "2                        0                     1       1       0.0       0   \n",
              "3                        0                     1       1       0.0       0   \n",
              "4                        0                     2       2       0.0       0   \n",
              "\n",
              "  meal  ... deposit_type agent  company  days_in_waiting_list  customer_type  \\\n",
              "0   BB  ...   No Deposit     0        0                     0      Transient   \n",
              "1   BB  ...   No Deposit     0        0                     0      Transient   \n",
              "2   BB  ...   No Deposit     0        0                     0      Transient   \n",
              "3   BB  ...   No Deposit     1        0                     0      Transient   \n",
              "4   BB  ...   No Deposit     1        0                     0      Transient   \n",
              "\n",
              "    adr required_car_parking_spaces  total_of_special_requests  continent  \\\n",
              "0   0.0                           0                          0     Europe   \n",
              "1   0.0                           0                          0     Europe   \n",
              "2  75.0                           0                          0     Europe   \n",
              "3  75.0                           0                          0     Europe   \n",
              "4  98.0                           0                          1     Europe   \n",
              "\n",
              "   is_reserved_room_type  \n",
              "0                      1  \n",
              "1                      1  \n",
              "2                      0  \n",
              "3                      1  \n",
              "4                      1  \n",
              "\n",
              "[5 rows x 26 columns]"
            ],
            "text/html": [
              "\n",
              "  <div id=\"df-25de8d54-81bd-4126-8a8f-5b42373bc63f\" class=\"colab-df-container\">\n",
              "    <div>\n",
              "<style scoped>\n",
              "    .dataframe tbody tr th:only-of-type {\n",
              "        vertical-align: middle;\n",
              "    }\n",
              "\n",
              "    .dataframe tbody tr th {\n",
              "        vertical-align: top;\n",
              "    }\n",
              "\n",
              "    .dataframe thead th {\n",
              "        text-align: right;\n",
              "    }\n",
              "</style>\n",
              "<table border=\"1\" class=\"dataframe\">\n",
              "  <thead>\n",
              "    <tr style=\"text-align: right;\">\n",
              "      <th></th>\n",
              "      <th>hotel</th>\n",
              "      <th>is_canceled</th>\n",
              "      <th>lead_time</th>\n",
              "      <th>arrival_date_month</th>\n",
              "      <th>stays_in_weekend_nights</th>\n",
              "      <th>stays_in_week_nights</th>\n",
              "      <th>adults</th>\n",
              "      <th>children</th>\n",
              "      <th>babies</th>\n",
              "      <th>meal</th>\n",
              "      <th>...</th>\n",
              "      <th>deposit_type</th>\n",
              "      <th>agent</th>\n",
              "      <th>company</th>\n",
              "      <th>days_in_waiting_list</th>\n",
              "      <th>customer_type</th>\n",
              "      <th>adr</th>\n",
              "      <th>required_car_parking_spaces</th>\n",
              "      <th>total_of_special_requests</th>\n",
              "      <th>continent</th>\n",
              "      <th>is_reserved_room_type</th>\n",
              "    </tr>\n",
              "  </thead>\n",
              "  <tbody>\n",
              "    <tr>\n",
              "      <th>0</th>\n",
              "      <td>Resort Hotel</td>\n",
              "      <td>0</td>\n",
              "      <td>342</td>\n",
              "      <td>7</td>\n",
              "      <td>0</td>\n",
              "      <td>0</td>\n",
              "      <td>2</td>\n",
              "      <td>0.0</td>\n",
              "      <td>0</td>\n",
              "      <td>BB</td>\n",
              "      <td>...</td>\n",
              "      <td>No Deposit</td>\n",
              "      <td>0</td>\n",
              "      <td>0</td>\n",
              "      <td>0</td>\n",
              "      <td>Transient</td>\n",
              "      <td>0.0</td>\n",
              "      <td>0</td>\n",
              "      <td>0</td>\n",
              "      <td>Europe</td>\n",
              "      <td>1</td>\n",
              "    </tr>\n",
              "    <tr>\n",
              "      <th>1</th>\n",
              "      <td>Resort Hotel</td>\n",
              "      <td>0</td>\n",
              "      <td>737</td>\n",
              "      <td>7</td>\n",
              "      <td>0</td>\n",
              "      <td>0</td>\n",
              "      <td>2</td>\n",
              "      <td>0.0</td>\n",
              "      <td>0</td>\n",
              "      <td>BB</td>\n",
              "      <td>...</td>\n",
              "      <td>No Deposit</td>\n",
              "      <td>0</td>\n",
              "      <td>0</td>\n",
              "      <td>0</td>\n",
              "      <td>Transient</td>\n",
              "      <td>0.0</td>\n",
              "      <td>0</td>\n",
              "      <td>0</td>\n",
              "      <td>Europe</td>\n",
              "      <td>1</td>\n",
              "    </tr>\n",
              "    <tr>\n",
              "      <th>2</th>\n",
              "      <td>Resort Hotel</td>\n",
              "      <td>0</td>\n",
              "      <td>7</td>\n",
              "      <td>7</td>\n",
              "      <td>0</td>\n",
              "      <td>1</td>\n",
              "      <td>1</td>\n",
              "      <td>0.0</td>\n",
              "      <td>0</td>\n",
              "      <td>BB</td>\n",
              "      <td>...</td>\n",
              "      <td>No Deposit</td>\n",
              "      <td>0</td>\n",
              "      <td>0</td>\n",
              "      <td>0</td>\n",
              "      <td>Transient</td>\n",
              "      <td>75.0</td>\n",
              "      <td>0</td>\n",
              "      <td>0</td>\n",
              "      <td>Europe</td>\n",
              "      <td>0</td>\n",
              "    </tr>\n",
              "    <tr>\n",
              "      <th>3</th>\n",
              "      <td>Resort Hotel</td>\n",
              "      <td>0</td>\n",
              "      <td>13</td>\n",
              "      <td>7</td>\n",
              "      <td>0</td>\n",
              "      <td>1</td>\n",
              "      <td>1</td>\n",
              "      <td>0.0</td>\n",
              "      <td>0</td>\n",
              "      <td>BB</td>\n",
              "      <td>...</td>\n",
              "      <td>No Deposit</td>\n",
              "      <td>1</td>\n",
              "      <td>0</td>\n",
              "      <td>0</td>\n",
              "      <td>Transient</td>\n",
              "      <td>75.0</td>\n",
              "      <td>0</td>\n",
              "      <td>0</td>\n",
              "      <td>Europe</td>\n",
              "      <td>1</td>\n",
              "    </tr>\n",
              "    <tr>\n",
              "      <th>4</th>\n",
              "      <td>Resort Hotel</td>\n",
              "      <td>0</td>\n",
              "      <td>14</td>\n",
              "      <td>7</td>\n",
              "      <td>0</td>\n",
              "      <td>2</td>\n",
              "      <td>2</td>\n",
              "      <td>0.0</td>\n",
              "      <td>0</td>\n",
              "      <td>BB</td>\n",
              "      <td>...</td>\n",
              "      <td>No Deposit</td>\n",
              "      <td>1</td>\n",
              "      <td>0</td>\n",
              "      <td>0</td>\n",
              "      <td>Transient</td>\n",
              "      <td>98.0</td>\n",
              "      <td>0</td>\n",
              "      <td>1</td>\n",
              "      <td>Europe</td>\n",
              "      <td>1</td>\n",
              "    </tr>\n",
              "  </tbody>\n",
              "</table>\n",
              "<p>5 rows × 26 columns</p>\n",
              "</div>\n",
              "    <div class=\"colab-df-buttons\">\n",
              "\n",
              "  <div class=\"colab-df-container\">\n",
              "    <button class=\"colab-df-convert\" onclick=\"convertToInteractive('df-25de8d54-81bd-4126-8a8f-5b42373bc63f')\"\n",
              "            title=\"Convert this dataframe to an interactive table.\"\n",
              "            style=\"display:none;\">\n",
              "\n",
              "  <svg xmlns=\"http://www.w3.org/2000/svg\" height=\"24px\" viewBox=\"0 -960 960 960\">\n",
              "    <path d=\"M120-120v-720h720v720H120Zm60-500h600v-160H180v160Zm220 220h160v-160H400v160Zm0 220h160v-160H400v160ZM180-400h160v-160H180v160Zm440 0h160v-160H620v160ZM180-180h160v-160H180v160Zm440 0h160v-160H620v160Z\"/>\n",
              "  </svg>\n",
              "    </button>\n",
              "\n",
              "  <style>\n",
              "    .colab-df-container {\n",
              "      display:flex;\n",
              "      gap: 12px;\n",
              "    }\n",
              "\n",
              "    .colab-df-convert {\n",
              "      background-color: #E8F0FE;\n",
              "      border: none;\n",
              "      border-radius: 50%;\n",
              "      cursor: pointer;\n",
              "      display: none;\n",
              "      fill: #1967D2;\n",
              "      height: 32px;\n",
              "      padding: 0 0 0 0;\n",
              "      width: 32px;\n",
              "    }\n",
              "\n",
              "    .colab-df-convert:hover {\n",
              "      background-color: #E2EBFA;\n",
              "      box-shadow: 0px 1px 2px rgba(60, 64, 67, 0.3), 0px 1px 3px 1px rgba(60, 64, 67, 0.15);\n",
              "      fill: #174EA6;\n",
              "    }\n",
              "\n",
              "    .colab-df-buttons div {\n",
              "      margin-bottom: 4px;\n",
              "    }\n",
              "\n",
              "    [theme=dark] .colab-df-convert {\n",
              "      background-color: #3B4455;\n",
              "      fill: #D2E3FC;\n",
              "    }\n",
              "\n",
              "    [theme=dark] .colab-df-convert:hover {\n",
              "      background-color: #434B5C;\n",
              "      box-shadow: 0px 1px 3px 1px rgba(0, 0, 0, 0.15);\n",
              "      filter: drop-shadow(0px 1px 2px rgba(0, 0, 0, 0.3));\n",
              "      fill: #FFFFFF;\n",
              "    }\n",
              "  </style>\n",
              "\n",
              "    <script>\n",
              "      const buttonEl =\n",
              "        document.querySelector('#df-25de8d54-81bd-4126-8a8f-5b42373bc63f button.colab-df-convert');\n",
              "      buttonEl.style.display =\n",
              "        google.colab.kernel.accessAllowed ? 'block' : 'none';\n",
              "\n",
              "      async function convertToInteractive(key) {\n",
              "        const element = document.querySelector('#df-25de8d54-81bd-4126-8a8f-5b42373bc63f');\n",
              "        const dataTable =\n",
              "          await google.colab.kernel.invokeFunction('convertToInteractive',\n",
              "                                                    [key], {});\n",
              "        if (!dataTable) return;\n",
              "\n",
              "        const docLinkHtml = 'Like what you see? Visit the ' +\n",
              "          '<a target=\"_blank\" href=https://colab.research.google.com/notebooks/data_table.ipynb>data table notebook</a>'\n",
              "          + ' to learn more about interactive tables.';\n",
              "        element.innerHTML = '';\n",
              "        dataTable['output_type'] = 'display_data';\n",
              "        await google.colab.output.renderOutput(dataTable, element);\n",
              "        const docLink = document.createElement('div');\n",
              "        docLink.innerHTML = docLinkHtml;\n",
              "        element.appendChild(docLink);\n",
              "      }\n",
              "    </script>\n",
              "  </div>\n",
              "\n",
              "\n",
              "    <div id=\"df-30f2f0a4-ca02-4e76-b4a2-cc28487adaef\">\n",
              "      <button class=\"colab-df-quickchart\" onclick=\"quickchart('df-30f2f0a4-ca02-4e76-b4a2-cc28487adaef')\"\n",
              "                title=\"Suggest charts\"\n",
              "                style=\"display:none;\">\n",
              "\n",
              "<svg xmlns=\"http://www.w3.org/2000/svg\" height=\"24px\"viewBox=\"0 0 24 24\"\n",
              "     width=\"24px\">\n",
              "    <g>\n",
              "        <path d=\"M19 3H5c-1.1 0-2 .9-2 2v14c0 1.1.9 2 2 2h14c1.1 0 2-.9 2-2V5c0-1.1-.9-2-2-2zM9 17H7v-7h2v7zm4 0h-2V7h2v10zm4 0h-2v-4h2v4z\"/>\n",
              "    </g>\n",
              "</svg>\n",
              "      </button>\n",
              "\n",
              "<style>\n",
              "  .colab-df-quickchart {\n",
              "      --bg-color: #E8F0FE;\n",
              "      --fill-color: #1967D2;\n",
              "      --hover-bg-color: #E2EBFA;\n",
              "      --hover-fill-color: #174EA6;\n",
              "      --disabled-fill-color: #AAA;\n",
              "      --disabled-bg-color: #DDD;\n",
              "  }\n",
              "\n",
              "  [theme=dark] .colab-df-quickchart {\n",
              "      --bg-color: #3B4455;\n",
              "      --fill-color: #D2E3FC;\n",
              "      --hover-bg-color: #434B5C;\n",
              "      --hover-fill-color: #FFFFFF;\n",
              "      --disabled-bg-color: #3B4455;\n",
              "      --disabled-fill-color: #666;\n",
              "  }\n",
              "\n",
              "  .colab-df-quickchart {\n",
              "    background-color: var(--bg-color);\n",
              "    border: none;\n",
              "    border-radius: 50%;\n",
              "    cursor: pointer;\n",
              "    display: none;\n",
              "    fill: var(--fill-color);\n",
              "    height: 32px;\n",
              "    padding: 0;\n",
              "    width: 32px;\n",
              "  }\n",
              "\n",
              "  .colab-df-quickchart:hover {\n",
              "    background-color: var(--hover-bg-color);\n",
              "    box-shadow: 0 1px 2px rgba(60, 64, 67, 0.3), 0 1px 3px 1px rgba(60, 64, 67, 0.15);\n",
              "    fill: var(--button-hover-fill-color);\n",
              "  }\n",
              "\n",
              "  .colab-df-quickchart-complete:disabled,\n",
              "  .colab-df-quickchart-complete:disabled:hover {\n",
              "    background-color: var(--disabled-bg-color);\n",
              "    fill: var(--disabled-fill-color);\n",
              "    box-shadow: none;\n",
              "  }\n",
              "\n",
              "  .colab-df-spinner {\n",
              "    border: 2px solid var(--fill-color);\n",
              "    border-color: transparent;\n",
              "    border-bottom-color: var(--fill-color);\n",
              "    animation:\n",
              "      spin 1s steps(1) infinite;\n",
              "  }\n",
              "\n",
              "  @keyframes spin {\n",
              "    0% {\n",
              "      border-color: transparent;\n",
              "      border-bottom-color: var(--fill-color);\n",
              "      border-left-color: var(--fill-color);\n",
              "    }\n",
              "    20% {\n",
              "      border-color: transparent;\n",
              "      border-left-color: var(--fill-color);\n",
              "      border-top-color: var(--fill-color);\n",
              "    }\n",
              "    30% {\n",
              "      border-color: transparent;\n",
              "      border-left-color: var(--fill-color);\n",
              "      border-top-color: var(--fill-color);\n",
              "      border-right-color: var(--fill-color);\n",
              "    }\n",
              "    40% {\n",
              "      border-color: transparent;\n",
              "      border-right-color: var(--fill-color);\n",
              "      border-top-color: var(--fill-color);\n",
              "    }\n",
              "    60% {\n",
              "      border-color: transparent;\n",
              "      border-right-color: var(--fill-color);\n",
              "    }\n",
              "    80% {\n",
              "      border-color: transparent;\n",
              "      border-right-color: var(--fill-color);\n",
              "      border-bottom-color: var(--fill-color);\n",
              "    }\n",
              "    90% {\n",
              "      border-color: transparent;\n",
              "      border-bottom-color: var(--fill-color);\n",
              "    }\n",
              "  }\n",
              "</style>\n",
              "\n",
              "      <script>\n",
              "        async function quickchart(key) {\n",
              "          const quickchartButtonEl =\n",
              "            document.querySelector('#' + key + ' button');\n",
              "          quickchartButtonEl.disabled = true;  // To prevent multiple clicks.\n",
              "          quickchartButtonEl.classList.add('colab-df-spinner');\n",
              "          try {\n",
              "            const charts = await google.colab.kernel.invokeFunction(\n",
              "                'suggestCharts', [key], {});\n",
              "          } catch (error) {\n",
              "            console.error('Error during call to suggestCharts:', error);\n",
              "          }\n",
              "          quickchartButtonEl.classList.remove('colab-df-spinner');\n",
              "          quickchartButtonEl.classList.add('colab-df-quickchart-complete');\n",
              "        }\n",
              "        (() => {\n",
              "          let quickchartButtonEl =\n",
              "            document.querySelector('#df-30f2f0a4-ca02-4e76-b4a2-cc28487adaef button');\n",
              "          quickchartButtonEl.style.display =\n",
              "            google.colab.kernel.accessAllowed ? 'block' : 'none';\n",
              "        })();\n",
              "      </script>\n",
              "    </div>\n",
              "\n",
              "    </div>\n",
              "  </div>\n"
            ],
            "application/vnd.google.colaboratory.intrinsic+json": {
              "type": "dataframe",
              "variable_name": "cleaned_df"
            }
          },
          "metadata": {},
          "execution_count": 6
        }
      ]
    },
    {
      "cell_type": "markdown",
      "source": [
        "## One-Hot Encoding"
      ],
      "metadata": {
        "id": "0i4WA9__huVN"
      }
    },
    {
      "cell_type": "code",
      "source": [
        "# One-hot encode categorical columns\n",
        "encoded_df = pd.get_dummies(cleaned_df,\n",
        "                    columns=['customer_type',\n",
        "                             'deposit_type',\n",
        "                             'distribution_channel',\n",
        "                             'hotel',\n",
        "                             'market_segment',\n",
        "                             'meal',\n",
        "                             'continent'],\n",
        "                    dtype = int)\n",
        "\n",
        "encoded_df.columns = encoded_df.columns.str.replace(r\"[ _/\\-]\", '_', regex=True).str.lower()\n",
        "\n",
        "print(f'Processed dataset shape: {encoded_df.shape}')\n",
        "encoded_df.to_csv(path + 'hotel_bookings_processed.csv', index=False)"
      ],
      "metadata": {
        "colab": {
          "base_uri": "https://localhost:8080/"
        },
        "id": "vRHG3jR7evtd",
        "outputId": "9cdfc132-93cf-4f19-e428-e20d5da7fdf7"
      },
      "execution_count": 7,
      "outputs": [
        {
          "output_type": "stream",
          "name": "stdout",
          "text": [
            "Processed dataset shape: (119388, 54)\n"
          ]
        }
      ]
    },
    {
      "cell_type": "markdown",
      "source": [
        "## Splitting Data into Train/Validation/Test Sets"
      ],
      "metadata": {
        "id": "6QBgV-a3kXt3"
      }
    },
    {
      "cell_type": "code",
      "source": [
        "# Load processed file - index column included (55 columns)\n",
        "processed_df = pd.read_csv(path + 'hotel_bookings_processed.csv')\n",
        "print(f'Loaded processed dataset shape: {processed_df.shape}')\n",
        "\n",
        "# Percentage of cancelled bookings\n",
        "not_cxl = processed_df.is_canceled.value_counts()[0]\n",
        "cxl = processed_df.is_canceled.value_counts()[1]\n",
        "cxl_pct = cxl / (cxl + not_cxl)\n",
        "print(f'Pct of cancelled bookings: {cxl_pct.item()}')"
      ],
      "metadata": {
        "id": "8Pzf0DIHeeYI",
        "outputId": "086e176d-0fdd-40f2-dbac-1bdf7778cb80",
        "colab": {
          "base_uri": "https://localhost:8080/"
        }
      },
      "execution_count": 8,
      "outputs": [
        {
          "output_type": "stream",
          "name": "stdout",
          "text": [
            "Loaded processed dataset shape: (119388, 54)\n",
            "Pct of cancelled bookings: 0.37041411197105234\n"
          ]
        }
      ]
    },
    {
      "cell_type": "code",
      "source": [
        "# Setting Y and X\n",
        "Y = processed_df[['is_canceled']]\n",
        "print(f\"Shape of Y: {Y.shape}\")\n",
        "\n",
        "X = processed_df.drop(columns=['is_canceled'])\n",
        "print(f\"Shape of X: {X.shape}\\n\")\n",
        "\n",
        "# Partition data into training (60%), validation (20%), and test (20%)\n",
        "# Shuffle defaulted to true\n",
        "X_train, X_test, Y_train, Y_test = train_test_split(X, Y, test_size=0.2, shuffle=True, stratify=Y)\n",
        "X_train, X_val, Y_train, Y_val = train_test_split(X_train, Y_train, test_size=0.25, shuffle=True, stratify=Y_train)\n",
        "\n",
        "print(f\"X_train shape: {X_train.shape}\")\n",
        "print(f\"X_val shape: {X_val.shape}\")\n",
        "print(f\"X_test shape: {X_test.shape}\")\n",
        "print(f\"Y_train shape: {Y_train.shape}\")\n",
        "print(f\"Y_val shape: {Y_val.shape}\")\n",
        "print(f\"Y_test shape: {Y_test.shape}\")"
      ],
      "metadata": {
        "id": "eB8hkvrkft0t",
        "outputId": "e776df05-55bb-4020-aae9-2fb7aa56c01d",
        "colab": {
          "base_uri": "https://localhost:8080/"
        }
      },
      "execution_count": 9,
      "outputs": [
        {
          "output_type": "stream",
          "name": "stdout",
          "text": [
            "Shape of Y: (119388, 1)\n",
            "Shape of X: (119388, 53)\n",
            "\n",
            "X_train shape: (71632, 53)\n",
            "X_val shape: (23878, 53)\n",
            "X_test shape: (23878, 53)\n",
            "Y_train shape: (71632, 1)\n",
            "Y_val shape: (23878, 1)\n",
            "Y_test shape: (23878, 1)\n"
          ]
        }
      ]
    },
    {
      "cell_type": "code",
      "source": [
        "# Validate that stratified randomization was done correctly\n",
        "for data, y in {'Y_train': Y_train, 'Y_val': Y_val, 'Y_test': Y_test}.items():\n",
        "  Y_not_cxl = y.is_canceled.value_counts()[0]\n",
        "  Y_cxl = y.is_canceled.value_counts()[1]\n",
        "  Y_cxl_pct = Y_cxl / (Y_cxl + Y_not_cxl)\n",
        "  print(f'After-split {data} cancelled bookings pct: {Y_cxl_pct.item()}')"
      ],
      "metadata": {
        "id": "uBG2cG6JhbxZ",
        "outputId": "4f45e99a-32d4-42f9-96a2-b2eb92c7fc66",
        "colab": {
          "base_uri": "https://localhost:8080/"
        }
      },
      "execution_count": 10,
      "outputs": [
        {
          "output_type": "stream",
          "name": "stdout",
          "text": [
            "After-split Y_train cancelled bookings pct: 0.37040708063435335\n",
            "After-split Y_val cancelled bookings pct: 0.3704246586816316\n",
            "After-split Y_test cancelled bookings pct: 0.3704246586816316\n"
          ]
        }
      ]
    },
    {
      "cell_type": "code",
      "source": [
        "# Save train/val/test files in different CSV\n",
        "X_train.to_csv(path + 'hotel_bookings_X_train.csv', index=False)\n",
        "Y_train.to_csv(path + 'hotel_bookings_Y_train.csv', index=False)\n",
        "X_val.to_csv(path + 'hotel_bookings_X_val.csv', index=False)\n",
        "Y_val.to_csv(path + 'hotel_bookings_Y_val.csv', index=False)\n",
        "X_test.to_csv(path + 'hotel_bookings_X_test.csv', index=False)\n",
        "Y_test.to_csv(path + 'hotel_bookings_Y_test.csv', index=False)"
      ],
      "metadata": {
        "id": "JoTYQaPTlEu_"
      },
      "execution_count": 11,
      "outputs": []
    }
  ],
  "metadata": {
    "colab": {
      "provenance": []
    },
    "kernelspec": {
      "display_name": "Python 3",
      "name": "python3"
    },
    "language_info": {
      "name": "python",
      "version": "3.10.12"
    }
  },
  "nbformat": 4,
  "nbformat_minor": 0
}