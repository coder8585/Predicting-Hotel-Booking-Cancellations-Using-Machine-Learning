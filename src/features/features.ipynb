{
  "nbformat": 4,
  "nbformat_minor": 0,
  "metadata": {
    "colab": {
      "provenance": []
    },
    "kernelspec": {
      "name": "python3",
      "display_name": "Python 3"
    },
    "language_info": {
      "name": "python"
    }
  },
  "cells": [
    {
      "cell_type": "code",
      "source": [
        "import math\n",
        "import numpy as np\n",
        "import pandas as pd\n",
        "from sklearn.preprocessing import StandardScaler\n",
        "from sklearn.compose import ColumnTransformer"
      ],
      "metadata": {
        "id": "-II8rpDAzudC"
      },
      "execution_count": 1,
      "outputs": []
    },
    {
      "cell_type": "code",
      "source": [
        "from google.colab import drive\n",
        "drive.mount('/content/drive')"
      ],
      "metadata": {
        "colab": {
          "base_uri": "https://localhost:8080/"
        },
        "id": "2xtd7BkL0iS6",
        "outputId": "9f595086-54e7-48c9-a533-82a44f0e19fb"
      },
      "execution_count": 2,
      "outputs": [
        {
          "output_type": "stream",
          "name": "stdout",
          "text": [
            "Drive already mounted at /content/drive; to attempt to forcibly remount, call drive.mount(\"/content/drive\", force_remount=True).\n"
          ]
        }
      ]
    },
    {
      "cell_type": "code",
      "source": [
        "path = '/content/drive/MyDrive/Colab Notebooks/data/'"
      ],
      "metadata": {
        "id": "0vUmQKRnz4jC"
      },
      "execution_count": 3,
      "outputs": []
    },
    {
      "cell_type": "code",
      "execution_count": 4,
      "metadata": {
        "id": "BI15vYeFzmJI"
      },
      "outputs": [],
      "source": [
        "X_train = pd.read_csv(path + 'hotel_bookings_X_train.csv', sep=\",\")\n",
        "X_val = pd.read_csv(path + 'hotel_bookings_X_val.csv', sep=\",\")\n",
        "X_test = pd.read_csv(path + 'hotel_bookings_X_test.csv', sep=\",\")"
      ]
    },
    {
      "cell_type": "markdown",
      "source": [
        "**Log transform right-skewed variables**"
      ],
      "metadata": {
        "id": "adiiIqKH0E-a"
      }
    },
    {
      "cell_type": "code",
      "source": [
        "X_train['adr'] = np.log1p(X_train['adr'])\n",
        "X_train['lead_time'] = np.log1p(X_train['lead_time'])\n",
        "X_train['days_in_waiting_list'] = np.log1p(X_train['days_in_waiting_list'])\n",
        "\n",
        "X_val['adr'] = np.log1p(X_val['adr'])\n",
        "X_val['lead_time'] = np.log1p(X_val['lead_time'])\n",
        "X_val['days_in_waiting_list'] = np.log1p(X_val['days_in_waiting_list'])\n",
        "\n",
        "X_test['adr'] = np.log1p(X_test['adr'])\n",
        "X_test['lead_time'] = np.log1p(X_test['lead_time'])\n",
        "X_test['days_in_waiting_list'] = np.log1p(X_test['days_in_waiting_list'])"
      ],
      "metadata": {
        "id": "9oa_grZH0C2A"
      },
      "execution_count": 5,
      "outputs": []
    },
    {
      "cell_type": "markdown",
      "source": [
        "**Scale variables**"
      ],
      "metadata": {
        "id": "r03HPT4c0LMM"
      }
    },
    {
      "cell_type": "code",
      "source": [
        "ohe_bin_prefixes = ['customer_type',\n",
        "                    'deposit_type',\n",
        "                    'distribution_channel',\n",
        "                    'hotel',\n",
        "                    'market_segment',\n",
        "                    'meal',\n",
        "                    'continent',\n",
        "                    'is_reserved_room_type',\n",
        "                    'is_repeated_guest',\n",
        "                    'agent',\n",
        "                    'company',]\n",
        "ohe_bin_columns = [col for col in X_train.columns if any(col.startswith(p) for p in ohe_bin_prefixes)]\n",
        "numerical_cols = X_train.drop(ohe_bin_columns, axis=1).columns\n",
        "processor = ColumnTransformer(\n",
        "    transformers = [\n",
        "        (\"num\", StandardScaler(), numerical_cols),\n",
        "        (\"onehot\", 'passthrough', ohe_bin_columns),\n",
        "    ],\n",
        "    remainder='passthrough'\n",
        ")\n",
        "processor.set_output(transform=\"pandas\")\n",
        "processor.fit(X_train)\n",
        "X_train = processor.transform(X_train)\n",
        "X_train.columns = X_train.columns.map(lambda x: x.split('__')[-1])\n",
        "\n",
        "X_val = processor.transform(X_val)\n",
        "X_val.columns = X_val.columns.map(lambda x: x.split('__')[-1])\n",
        "\n",
        "X_test = processor.transform(X_test)\n",
        "X_test.columns = X_test.columns.map(lambda x: x.split('__')[-1])"
      ],
      "metadata": {
        "id": "css8zdep0N8a"
      },
      "execution_count": 6,
      "outputs": []
    },
    {
      "cell_type": "markdown",
      "source": [
        "**Save transformed data**"
      ],
      "metadata": {
        "id": "b2hjGJTs0Wfj"
      }
    },
    {
      "cell_type": "code",
      "source": [
        "X_train.to_csv(path + 'hotel_bookings_X_train.csv', index=False)\n",
        "X_val.to_csv(path + 'hotel_bookings_X_val.csv', index=False)\n",
        "X_test.to_csv(path + 'hotel_bookings_X_test.csv', index=False)"
      ],
      "metadata": {
        "id": "T5xCRDe40WBS"
      },
      "execution_count": 7,
      "outputs": []
    }
  ]
}